{
 "cells": [
  {
   "cell_type": "code",
   "execution_count": 1,
   "id": "736994df",
   "metadata": {},
   "outputs": [
    {
     "name": "stdout",
     "output_type": "stream",
     "text": [
      "Librerías importadas.\n"
     ]
    }
   ],
   "source": [
    "# ==============================================================================\n",
    "# PASO 1: IMPORTACIÓN DE LIBRERÍAS\n",
    "# ==============================================================================\n",
    "import pandas as pd\n",
    "import numpy as np\n",
    "import matplotlib.pyplot as plt\n",
    "import seaborn as sns\n",
    "from datetime import datetime\n",
    "import os\n",
    "\n",
    "print(\"Librerías importadas.\")"
   ]
  },
  {
   "cell_type": "code",
   "execution_count": 2,
   "id": "fab5959e",
   "metadata": {},
   "outputs": [
    {
     "name": "stdout",
     "output_type": "stream",
     "text": [
      "\n",
      "Cargando el dataset crudo...\n",
      "Dataset cargado exitosamente.\n",
      "Forma inicial del dataset: (84, 7)\n",
      "\n",
      "Vista previa de los datos crudos:\n"
     ]
    },
    {
     "data": {
      "text/html": [
       "<div>\n",
       "<style scoped>\n",
       "    .dataframe tbody tr th:only-of-type {\n",
       "        vertical-align: middle;\n",
       "    }\n",
       "\n",
       "    .dataframe tbody tr th {\n",
       "        vertical-align: top;\n",
       "    }\n",
       "\n",
       "    .dataframe thead th {\n",
       "        text-align: right;\n",
       "    }\n",
       "</style>\n",
       "<table border=\"1\" class=\"dataframe\">\n",
       "  <thead>\n",
       "    <tr style=\"text-align: right;\">\n",
       "      <th></th>\n",
       "      <th>price</th>\n",
       "      <th>sqft</th>\n",
       "      <th>bedrooms</th>\n",
       "      <th>bathrooms</th>\n",
       "      <th>location</th>\n",
       "      <th>year_built</th>\n",
       "      <th>condition</th>\n",
       "    </tr>\n",
       "  </thead>\n",
       "  <tbody>\n",
       "    <tr>\n",
       "      <th>0</th>\n",
       "      <td>495000</td>\n",
       "      <td>1527</td>\n",
       "      <td>2</td>\n",
       "      <td>1.5</td>\n",
       "      <td>Suburb</td>\n",
       "      <td>1956</td>\n",
       "      <td>Good</td>\n",
       "    </tr>\n",
       "    <tr>\n",
       "      <th>1</th>\n",
       "      <td>752000</td>\n",
       "      <td>2526</td>\n",
       "      <td>3</td>\n",
       "      <td>2.5</td>\n",
       "      <td>Downtown</td>\n",
       "      <td>1998</td>\n",
       "      <td>Excellent</td>\n",
       "    </tr>\n",
       "    <tr>\n",
       "      <th>2</th>\n",
       "      <td>319000</td>\n",
       "      <td>1622</td>\n",
       "      <td>2</td>\n",
       "      <td>1.5</td>\n",
       "      <td>Rural</td>\n",
       "      <td>1975</td>\n",
       "      <td>Fair</td>\n",
       "    </tr>\n",
       "    <tr>\n",
       "      <th>3</th>\n",
       "      <td>1210000</td>\n",
       "      <td>3102</td>\n",
       "      <td>4</td>\n",
       "      <td>3.0</td>\n",
       "      <td>Waterfront</td>\n",
       "      <td>2005</td>\n",
       "      <td>Excellent</td>\n",
       "    </tr>\n",
       "    <tr>\n",
       "      <th>4</th>\n",
       "      <td>462000</td>\n",
       "      <td>1835</td>\n",
       "      <td>2</td>\n",
       "      <td>2.0</td>\n",
       "      <td>Urban</td>\n",
       "      <td>1982</td>\n",
       "      <td>Good</td>\n",
       "    </tr>\n",
       "  </tbody>\n",
       "</table>\n",
       "</div>"
      ],
      "text/plain": [
       "     price  sqft  bedrooms  bathrooms    location  year_built  condition\n",
       "0   495000  1527         2        1.5      Suburb        1956       Good\n",
       "1   752000  2526         3        2.5    Downtown        1998  Excellent\n",
       "2   319000  1622         2        1.5       Rural        1975       Fair\n",
       "3  1210000  3102         4        3.0  Waterfront        2005  Excellent\n",
       "4   462000  1835         2        2.0       Urban        1982       Good"
      ]
     },
     "metadata": {},
     "output_type": "display_data"
    }
   ],
   "source": [
    "# ==============================================================================\n",
    "# PASO 2: CARGA DE DATOS CRUDOS (RAW DATA)\n",
    "# ==============================================================================\n",
    "print(\"\\nCargando el dataset crudo...\")\n",
    "try:\n",
    "    df = pd.read_csv(\"../data/raw/house_data.csv\")\n",
    "    print(\"Dataset cargado exitosamente.\")\n",
    "    print(f\"Forma inicial del dataset: {df.shape}\")\n",
    "    print(\"\\nVista previa de los datos crudos:\")\n",
    "    display(df.head())\n",
    "except FileNotFoundError:\n",
    "    print(\"ERROR: Archivo no encontrado. Asegúrate de que la ruta '../data/raw/house_data.csv' es correcta.\")\n",
    "    exit()"
   ]
  },
  {
   "cell_type": "code",
   "execution_count": 3,
   "id": "6df2cdbb",
   "metadata": {},
   "outputs": [
    {
     "name": "stdout",
     "output_type": "stream",
     "text": [
      "\n",
      "Estandarizando nombres de columnas...\n",
      "Nombres de columnas estandarizados: ['price', 'sqft', 'bedrooms', 'bathrooms', 'location', 'year_built', 'condition']\n"
     ]
    }
   ],
   "source": [
    "# ==============================================================================\n",
    "# PASO 3: LIMPIEZA Y ESTANDARIZACIÓN\n",
    "# ==============================================================================\n",
    "\n",
    "# 3.1: Estandarización de Nombres de Columnas\n",
    "# Es una buena práctica para evitar errores por mayúsculas o espacios.\n",
    "print(\"\\nEstandarizando nombres de columnas...\")\n",
    "df.columns = df.columns.str.strip().str.lower().str.replace(\" \", \"_\")\n",
    "print(f\"Nombres de columnas estandarizados: {df.columns.tolist()}\")"
   ]
  },
  {
   "cell_type": "code",
   "execution_count": 4,
   "id": "48158206",
   "metadata": {},
   "outputs": [
    {
     "name": "stdout",
     "output_type": "stream",
     "text": [
      "\n",
      "Verificando tipos de datos y valores nulos...\n",
      "\n",
      "Información del DataFrame:\n",
      "<class 'pandas.core.frame.DataFrame'>\n",
      "RangeIndex: 84 entries, 0 to 83\n",
      "Data columns (total 7 columns):\n",
      " #   Column      Non-Null Count  Dtype  \n",
      "---  ------      --------------  -----  \n",
      " 0   price       84 non-null     int64  \n",
      " 1   sqft        84 non-null     int64  \n",
      " 2   bedrooms    84 non-null     int64  \n",
      " 3   bathrooms   84 non-null     float64\n",
      " 4   location    84 non-null     object \n",
      " 5   year_built  84 non-null     int64  \n",
      " 6   condition   84 non-null     object \n",
      "dtypes: float64(1), int64(4), object(2)\n",
      "memory usage: 4.7+ KB\n",
      "\n",
      "No se encontraron valores nulos.\n"
     ]
    }
   ],
   "source": [
    "# 3.2: Verificación de Nulos y Tipos de Datos\n",
    "print(\"\\nVerificando tipos de datos y valores nulos...\")\n",
    "print(\"\\nInformación del DataFrame:\")\n",
    "df.info()\n",
    "\n",
    "\n",
    "# print(\"\\n Valores missing por columna:\")\n",
    "# print(df.isnull().sum())\n",
    "\n",
    "if df.isnull().sum().any():\n",
    "    print(f\"\\nSe encontraron valores nulos. Total por columna:\\n{df.isnull().sum()[df.isnull().sum() > 0]}\")\n",
    "    df = df.dropna()\n",
    "    print(\"Filas con valores nulos eliminadas.\")\n",
    "else:\n",
    "    print(\"\\nNo se encontraron valores nulos.\")"
   ]
  },
  {
   "cell_type": "code",
   "execution_count": 5,
   "id": "48bfb36b",
   "metadata": {},
   "outputs": [
    {
     "name": "stdout",
     "output_type": "stream",
     "text": [
      "\n",
      "Verificando filas duplicadas...\n",
      "No se encontraron filas duplicadas.\n"
     ]
    }
   ],
   "source": [
    "# 3.3: Eliminación de Duplicados\n",
    "print(\"\\nVerificando filas duplicadas...\")\n",
    "num_duplicates = df.duplicated().sum()\n",
    "if num_duplicates > 0:\n",
    "    print(f\"Se encontraron {num_duplicates} filas duplicadas. Eliminándolas...\")\n",
    "    df = df.drop_duplicates(keep='first')\n",
    "    print(f\"Duplicados eliminados. Nueva forma del dataset: {df.shape}\")\n",
    "else:\n",
    "    print(\"No se encontraron filas duplicadas.\")"
   ]
  },
  {
   "cell_type": "code",
   "execution_count": 7,
   "id": "5434c7e4",
   "metadata": {},
   "outputs": [
    {
     "name": "stdout",
     "output_type": "stream",
     "text": [
      "\n",
      "Realizando chequeos de sanidad de los datos...\n",
      "Todos los datos pasaron los chequeos de sanidad básicos.\n",
      "Forma del dataset después de los chequeos de sanidad: (84, 7)\n"
     ]
    }
   ],
   "source": [
    "# ==============================================================================\n",
    "# PASO 4: VALIDACIÓN Y CORRECCIÓN DE TIPOS DE DATOS\n",
    "# ==============================================================================\n",
    "\n",
    "# 4.1: Chequeos de Sanidad (Valores no realistas)\n",
    "print(\"\\nRealizando chequeos de sanidad de los datos...\")\n",
    "initial_rows = len(df)\n",
    "df = df[df['price'] > 1000] # Precios deben ser positivos y realistas\n",
    "df = df[df['sqft'] > 100]    # Superficies deben ser positivas y realistas\n",
    "rows_removed = initial_rows - len(df)\n",
    "if rows_removed > 0:\n",
    "    print(f\"Se eliminaron {rows_removed} filas que no pasaron los chequeos de sanidad.\")\n",
    "else:\n",
    "    print(\"Todos los datos pasaron los chequeos de sanidad básicos.\")\n",
    "\n",
    "print(f\"Forma del dataset después de los chequeos de sanidad: {df.shape}\")"
   ]
  },
  {
   "cell_type": "code",
   "execution_count": 8,
   "id": "bdfc4ed3",
   "metadata": {},
   "outputs": [
    {
     "name": "stdout",
     "output_type": "stream",
     "text": [
      "\n",
      "Convirtiendo tipos de datos para optimización...\n",
      "Tipos de datos optimizados.\n"
     ]
    },
    {
     "data": {
      "text/plain": [
       "price            int64\n",
       "sqft             int64\n",
       "bedrooms         int64\n",
       "bathrooms      float64\n",
       "location      category\n",
       "year_built       int64\n",
       "condition     category\n",
       "dtype: object"
      ]
     },
     "execution_count": 8,
     "metadata": {},
     "output_type": "execute_result"
    }
   ],
   "source": [
    "# 4.2: Conversión explícita de tipos de datos para optimización\n",
    "print(\"\\nConvirtiendo tipos de datos para optimización...\")\n",
    "df['location'] = df['location'].astype('category')\n",
    "df['condition'] = df['condition'].astype('category')\n",
    "df['bedrooms'] = df['bedrooms'].astype(int)\n",
    "print(\"Tipos de datos optimizados.\")\n",
    "df.dtypes"
   ]
  },
  {
   "cell_type": "code",
   "execution_count": 9,
   "id": "cf795c3f",
   "metadata": {},
   "outputs": [
    {
     "name": "stdout",
     "output_type": "stream",
     "text": [
      "\n",
      "Guardando el dataset limpio en la carpeta 'processed'...\n",
      "Proceso de limpieza de datos completado. Archivo guardado en: ../data/processed\\cleaned_house_data.csv\n",
      "Forma final del dataset: (84, 7)\n",
      "\n",
      "Vista previa de los datos limpios:\n",
      "     price  sqft  bedrooms  bathrooms    location  year_built  condition\n",
      "0   495000  1527         2        1.5      Suburb        1956       Good\n",
      "1   752000  2526         3        2.5    Downtown        1998  Excellent\n",
      "2   319000  1622         2        1.5       Rural        1975       Fair\n",
      "3  1210000  3102         4        3.0  Waterfront        2005  Excellent\n",
      "4   462000  1835         2        2.0       Urban        1982       Good\n"
     ]
    }
   ],
   "source": [
    "# ==============================================================================\n",
    "# PASO 5: GUARDADO DE DATOS PROCESADOS\n",
    "# ==============================================================================\n",
    "print(\"\\nGuardando el dataset limpio en la carpeta 'processed'...\")\n",
    "output_dir = \"../data/processed\"\n",
    "output_path = os.path.join(output_dir, \"cleaned_house_data.csv\")\n",
    "\n",
    "# Asegurarse de que el directorio de salida exista\n",
    "os.makedirs(output_dir, exist_ok=True)\n",
    "\n",
    "# Guardar el DataFrame limpio\n",
    "df.to_csv(output_path, index=False)\n",
    "print(f\"Proceso de limpieza de datos completado. Archivo guardado en: {output_path}\")\n",
    "print(f\"Forma final del dataset: {df.shape}\")\n",
    "print(\"\\nVista previa de los datos limpios:\")\n",
    "print(df.head())"
   ]
  },
  {
   "cell_type": "code",
   "execution_count": null,
   "id": "86ae8e6f",
   "metadata": {},
   "outputs": [],
   "source": []
  }
 ],
 "metadata": {
  "kernelspec": {
   "display_name": "mlops",
   "language": "python",
   "name": "python3"
  },
  "language_info": {
   "codemirror_mode": {
    "name": "ipython",
    "version": 3
   },
   "file_extension": ".py",
   "mimetype": "text/x-python",
   "name": "python",
   "nbconvert_exporter": "python",
   "pygments_lexer": "ipython3",
   "version": "3.11.13"
  }
 },
 "nbformat": 4,
 "nbformat_minor": 5
}
